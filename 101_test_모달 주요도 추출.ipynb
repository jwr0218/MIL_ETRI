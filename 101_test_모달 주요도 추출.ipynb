{
 "cells": [
  {
   "cell_type": "markdown",
   "id": "6e4dba74",
   "metadata": {},
   "source": [
    "# 모달 주요도 추출 예제 코드\n",
    "- 101번 사용자에 대한 예제 코드\n",
    "- 101_tension_MIL_Model Train code.ipynb에서 학습된 모델 사용"
   ]
  },
  {
   "cell_type": "markdown",
   "id": "06bf4993",
   "metadata": {},
   "source": [
    "# 필요 라이브러리 로드"
   ]
  },
  {
   "cell_type": "code",
   "execution_count": 1,
   "id": "61eddeba",
   "metadata": {},
   "outputs": [
    {
     "name": "stdout",
     "output_type": "stream",
     "text": [
      "/workspace\n"
     ]
    }
   ],
   "source": [
    "%cd /workspace\n",
    "\n",
    "import numpy as np\n",
    "import pandas as pd\n",
    "import pickle\n",
    "\n",
    "from sklearn.model_selection import train_test_split\n",
    "from human_lifelog_mil_pytorch.FocalLoss import FocalLoss\n",
    "from human_lifelog_mil_pytorch.human_lifelog_mil_pytorch import MILNet\n",
    "from human_lifelog_mil_pytorch.human_lifelog_mil_pytorch import HumanDataset\n",
    "from human_lifelog_mil_pytorch.utils import getF1Score\n",
    "\n",
    "import torch\n",
    "import os\n",
    "import matplotlib.pyplot as plt\n",
    "import warnings\n",
    "\n",
    "warnings.filterwarnings( 'ignore' )\n",
    "\n",
    "from sklearn.metrics import accuracy_score, recall_score, precision_score, f1_score, roc_auc_score\n",
    "from sklearn.model_selection import train_test_split\n",
    "from sklearn.preprocessing import LabelEncoder\n",
    "from tqdm import tqdm_notebook\n",
    "\n",
    "device = torch.device(\"cuda:0\")"
   ]
  },
  {
   "cell_type": "markdown",
   "id": "7bc35eb5",
   "metadata": {},
   "source": [
    "# 데이터 로드\n",
    "- 101_tension_MIL_Model Train code.ipynb와 동일한 방식으로 데이터 로드\n",
    "- 모달 주요도는 testset에서 추출 예정"
   ]
  },
  {
   "cell_type": "code",
   "execution_count": 2,
   "id": "9adf4b95",
   "metadata": {},
   "outputs": [],
   "source": [
    "user = '101'"
   ]
  },
  {
   "cell_type": "code",
   "execution_count": 3,
   "id": "5023fadb",
   "metadata": {
    "scrolled": false
   },
   "outputs": [
    {
     "data": {
      "text/html": [
       "<div>\n",
       "<style scoped>\n",
       "    .dataframe tbody tr th:only-of-type {\n",
       "        vertical-align: middle;\n",
       "    }\n",
       "\n",
       "    .dataframe tbody tr th {\n",
       "        vertical-align: top;\n",
       "    }\n",
       "\n",
       "    .dataframe thead th {\n",
       "        text-align: right;\n",
       "    }\n",
       "</style>\n",
       "<table border=\"1\" class=\"dataframe\">\n",
       "  <thead>\n",
       "    <tr style=\"text-align: right;\">\n",
       "      <th></th>\n",
       "      <th>userName</th>\n",
       "      <th>emotionPositive</th>\n",
       "      <th>emotionTension</th>\n",
       "      <th>action</th>\n",
       "      <th>gender</th>\n",
       "      <th>height</th>\n",
       "      <th>weight</th>\n",
       "      <th>e4Acc</th>\n",
       "      <th>e4Bvp</th>\n",
       "      <th>e4Eda</th>\n",
       "      <th>...</th>\n",
       "      <th>e4EdaLen</th>\n",
       "      <th>e4HrLen</th>\n",
       "      <th>e4TempLen</th>\n",
       "      <th>mAccLen</th>\n",
       "      <th>mGpsLen</th>\n",
       "      <th>mGyrLen</th>\n",
       "      <th>mMagLen</th>\n",
       "      <th>action_label</th>\n",
       "      <th>positive_label</th>\n",
       "      <th>tension_label</th>\n",
       "    </tr>\n",
       "    <tr>\n",
       "      <th>ts</th>\n",
       "      <th></th>\n",
       "      <th></th>\n",
       "      <th></th>\n",
       "      <th></th>\n",
       "      <th></th>\n",
       "      <th></th>\n",
       "      <th></th>\n",
       "      <th></th>\n",
       "      <th></th>\n",
       "      <th></th>\n",
       "      <th></th>\n",
       "      <th></th>\n",
       "      <th></th>\n",
       "      <th></th>\n",
       "      <th></th>\n",
       "      <th></th>\n",
       "      <th></th>\n",
       "      <th></th>\n",
       "      <th></th>\n",
       "      <th></th>\n",
       "      <th></th>\n",
       "    </tr>\n",
       "  </thead>\n",
       "  <tbody>\n",
       "    <tr>\n",
       "      <th>1578184440</th>\n",
       "      <td>101</td>\n",
       "      <td>6</td>\n",
       "      <td>2</td>\n",
       "      <td>recreation_etc</td>\n",
       "      <td>F</td>\n",
       "      <td>161.0</td>\n",
       "      <td>52.0</td>\n",
       "      <td>[[0.9375, -0.25, -0.03125], [0.9375, -0.25, -0...</td>\n",
       "      <td>[[-0.5897236], [-2.0923119], [-3.8966255], [-5...</td>\n",
       "      <td>[[0.029454641], [0.029454641], [0.032015916], ...</td>\n",
       "      <td>...</td>\n",
       "      <td>240</td>\n",
       "      <td>32</td>\n",
       "      <td>240</td>\n",
       "      <td>1786</td>\n",
       "      <td>1</td>\n",
       "      <td>1786</td>\n",
       "      <td>1786</td>\n",
       "      <td>2</td>\n",
       "      <td>2</td>\n",
       "      <td>1</td>\n",
       "    </tr>\n",
       "    <tr>\n",
       "      <th>1578184560</th>\n",
       "      <td>101</td>\n",
       "      <td>6</td>\n",
       "      <td>2</td>\n",
       "      <td>recreation_etc</td>\n",
       "      <td>F</td>\n",
       "      <td>161.0</td>\n",
       "      <td>52.0</td>\n",
       "      <td>[[0.9375, -0.21875, -0.0625], [0.9375, -0.2187...</td>\n",
       "      <td>[[-14.854795], [-17.59889], [-20.453917], [-22...</td>\n",
       "      <td>[[0.070435025], [0.0729963], [0.0729963], [0.0...</td>\n",
       "      <td>...</td>\n",
       "      <td>240</td>\n",
       "      <td>6</td>\n",
       "      <td>240</td>\n",
       "      <td>1786</td>\n",
       "      <td>1</td>\n",
       "      <td>1787</td>\n",
       "      <td>1787</td>\n",
       "      <td>2</td>\n",
       "      <td>2</td>\n",
       "      <td>1</td>\n",
       "    </tr>\n",
       "    <tr>\n",
       "      <th>1578184620</th>\n",
       "      <td>101</td>\n",
       "      <td>6</td>\n",
       "      <td>2</td>\n",
       "      <td>recreation_etc</td>\n",
       "      <td>F</td>\n",
       "      <td>161.0</td>\n",
       "      <td>52.0</td>\n",
       "      <td>[[0.921875, -0.21875, -0.140625], [0.921875, -...</td>\n",
       "      <td>[[-5.4048615], [-6.8878326], [-9.298111], [-12...</td>\n",
       "      <td>[[0.08708331], [0.083241396], [0.085802674], [...</td>\n",
       "      <td>...</td>\n",
       "      <td>240</td>\n",
       "      <td>3</td>\n",
       "      <td>240</td>\n",
       "      <td>1786</td>\n",
       "      <td>1</td>\n",
       "      <td>1786</td>\n",
       "      <td>1786</td>\n",
       "      <td>2</td>\n",
       "      <td>2</td>\n",
       "      <td>1</td>\n",
       "    </tr>\n",
       "    <tr>\n",
       "      <th>1578184920</th>\n",
       "      <td>101</td>\n",
       "      <td>6</td>\n",
       "      <td>2</td>\n",
       "      <td>recreation_etc</td>\n",
       "      <td>F</td>\n",
       "      <td>161.0</td>\n",
       "      <td>52.0</td>\n",
       "      <td>[[-0.28125, -0.578125, 0.734375], [-0.28125, -...</td>\n",
       "      <td>[[10.687408], [13.796631], [16.10376], [16.737...</td>\n",
       "      <td>[[0.15111516], [0.15367644], [0.1562377], [0.1...</td>\n",
       "      <td>...</td>\n",
       "      <td>240</td>\n",
       "      <td>8</td>\n",
       "      <td>240</td>\n",
       "      <td>1786</td>\n",
       "      <td>1</td>\n",
       "      <td>1786</td>\n",
       "      <td>1786</td>\n",
       "      <td>2</td>\n",
       "      <td>2</td>\n",
       "      <td>1</td>\n",
       "    </tr>\n",
       "    <tr>\n",
       "      <th>1578185040</th>\n",
       "      <td>101</td>\n",
       "      <td>6</td>\n",
       "      <td>2</td>\n",
       "      <td>recreation_etc</td>\n",
       "      <td>F</td>\n",
       "      <td>161.0</td>\n",
       "      <td>52.0</td>\n",
       "      <td>[[-0.6875, -0.40625, 0.578125], [-0.6875, -0.4...</td>\n",
       "      <td>[[-5.266464], [-8.345547], [-11.21323], [-13.8...</td>\n",
       "      <td>[[0.13318624], [0.13446687], [0.13574752], [0....</td>\n",
       "      <td>...</td>\n",
       "      <td>240</td>\n",
       "      <td>64</td>\n",
       "      <td>240</td>\n",
       "      <td>1786</td>\n",
       "      <td>1</td>\n",
       "      <td>1787</td>\n",
       "      <td>1787</td>\n",
       "      <td>2</td>\n",
       "      <td>2</td>\n",
       "      <td>1</td>\n",
       "    </tr>\n",
       "  </tbody>\n",
       "</table>\n",
       "<p>5 rows × 28 columns</p>\n",
       "</div>"
      ],
      "text/plain": [
       "           userName  emotionPositive  emotionTension          action gender  \\\n",
       "ts                                                                            \n",
       "1578184440      101                6               2  recreation_etc      F   \n",
       "1578184560      101                6               2  recreation_etc      F   \n",
       "1578184620      101                6               2  recreation_etc      F   \n",
       "1578184920      101                6               2  recreation_etc      F   \n",
       "1578185040      101                6               2  recreation_etc      F   \n",
       "\n",
       "            height  weight                                              e4Acc  \\\n",
       "ts                                                                              \n",
       "1578184440   161.0    52.0  [[0.9375, -0.25, -0.03125], [0.9375, -0.25, -0...   \n",
       "1578184560   161.0    52.0  [[0.9375, -0.21875, -0.0625], [0.9375, -0.2187...   \n",
       "1578184620   161.0    52.0  [[0.921875, -0.21875, -0.140625], [0.921875, -...   \n",
       "1578184920   161.0    52.0  [[-0.28125, -0.578125, 0.734375], [-0.28125, -...   \n",
       "1578185040   161.0    52.0  [[-0.6875, -0.40625, 0.578125], [-0.6875, -0.4...   \n",
       "\n",
       "                                                        e4Bvp  \\\n",
       "ts                                                              \n",
       "1578184440  [[-0.5897236], [-2.0923119], [-3.8966255], [-5...   \n",
       "1578184560  [[-14.854795], [-17.59889], [-20.453917], [-22...   \n",
       "1578184620  [[-5.4048615], [-6.8878326], [-9.298111], [-12...   \n",
       "1578184920  [[10.687408], [13.796631], [16.10376], [16.737...   \n",
       "1578185040  [[-5.266464], [-8.345547], [-11.21323], [-13.8...   \n",
       "\n",
       "                                                        e4Eda  ... e4EdaLen  \\\n",
       "ts                                                             ...            \n",
       "1578184440  [[0.029454641], [0.029454641], [0.032015916], ...  ...      240   \n",
       "1578184560  [[0.070435025], [0.0729963], [0.0729963], [0.0...  ...      240   \n",
       "1578184620  [[0.08708331], [0.083241396], [0.085802674], [...  ...      240   \n",
       "1578184920  [[0.15111516], [0.15367644], [0.1562377], [0.1...  ...      240   \n",
       "1578185040  [[0.13318624], [0.13446687], [0.13574752], [0....  ...      240   \n",
       "\n",
       "           e4HrLen e4TempLen mAccLen mGpsLen mGyrLen  mMagLen  action_label  \\\n",
       "ts                                                                            \n",
       "1578184440      32       240    1786       1    1786     1786             2   \n",
       "1578184560       6       240    1786       1    1787     1787             2   \n",
       "1578184620       3       240    1786       1    1786     1786             2   \n",
       "1578184920       8       240    1786       1    1786     1786             2   \n",
       "1578185040      64       240    1786       1    1787     1787             2   \n",
       "\n",
       "            positive_label  tension_label  \n",
       "ts                                         \n",
       "1578184440               2              1  \n",
       "1578184560               2              1  \n",
       "1578184620               2              1  \n",
       "1578184920               2              1  \n",
       "1578185040               2              1  \n",
       "\n",
       "[5 rows x 28 columns]"
      ]
     },
     "execution_count": 3,
     "metadata": {},
     "output_type": "execute_result"
    }
   ],
   "source": [
    "df = pd.read_pickle('/workspace/Data analysis (zaesoek)/2019/'+user+'_prpDf.pickle')\n",
    "\n",
    "df = df.drop(df[df['e4AccLen']!=1920].index, 0)\n",
    "df = df.drop(df[df['e4BvpLen']!=3840].index, 0)\n",
    "df = df.drop(df[df['e4EdaLen']!=240].index, 0)\n",
    "df = df.drop(df[df['e4TempLen']!=240].index, 0)\n",
    "\n",
    "df = df.drop(df[df['mAccLen']<1786].index, 0)\n",
    "df = df.drop(df[df['mGyrLen']<1786].index, 0)\n",
    "df = df.drop(df[df['mMagLen']<1786].index, 0)\n",
    "\n",
    "encoder = LabelEncoder()\n",
    "df['action_label'] = encoder.fit_transform(df['action'])\n",
    "encoder = LabelEncoder()\n",
    "df['positive_label'] = encoder.fit_transform(df['emotionPositive'])\n",
    "encoder = LabelEncoder()\n",
    "df['tension_label'] = encoder.fit_transform(df['emotionTension'])\n",
    "\n",
    "for i in df.index:\n",
    "    df['e4Hr'][i] = np.mean(df['e4Hr'][i])\n",
    "    df['mGps'][i] = np.mean(df['mGps'][i])\n",
    "    \n",
    "    if df['mAccLen'][i] == 1787:\n",
    "        df['mAcc'][i] = df['mAcc'][i][:1786]\n",
    "    if df['mGyrLen'][i] == 1787:\n",
    "        df['mGyr'][i] = df['mGyr'][i][:1786]\n",
    "    if df['mMagLen'][i] == 1787:\n",
    "        df['mMag'][i] = df['mMag'][i][:1786]\n",
    "\n",
    "df.head()"
   ]
  },
  {
   "cell_type": "code",
   "execution_count": 4,
   "id": "f37f5f3f",
   "metadata": {},
   "outputs": [
    {
     "name": "stdout",
     "output_type": "stream",
     "text": [
      "1290 185 369\n"
     ]
    }
   ],
   "source": [
    "train_df, test_df = train_test_split(df, test_size=0.2, shuffle = True, random_state=32)\n",
    "train_df, valid_df = train_test_split(train_df, test_size=0.125, shuffle = True, random_state=32)\n",
    "\n",
    "print(len(train_df), len(valid_df), len(test_df))\n",
    "\n",
    "trainset = HumanDataset(train_df)\n",
    "validset = HumanDataset(valid_df)\n",
    "testset = HumanDataset(test_df)\n",
    "\n",
    "train_dataloader = torch.utils.data.DataLoader(trainset, batch_size=512, num_workers=0, shuffle=True)\n",
    "valid_dataloader = torch.utils.data.DataLoader(validset, batch_size=32, num_workers=0)\n",
    "test_dataloader = torch.utils.data.DataLoader(testset, batch_size=32, num_workers=0)"
   ]
  },
  {
   "cell_type": "markdown",
   "id": "29121527",
   "metadata": {},
   "source": [
    "# Tension model 로드\n",
    "- 101_tension_MIL_Model Train code.ipynb에서 학습된 모델 로드"
   ]
  },
  {
   "cell_type": "code",
   "execution_count": 5,
   "id": "a50c28a2",
   "metadata": {},
   "outputs": [
    {
     "data": {
      "text/plain": [
       "<All keys matched successfully>"
      ]
     },
     "execution_count": 5,
     "metadata": {},
     "output_type": "execute_result"
    }
   ],
   "source": [
    "tension_milnet = MILNet(class_num = len(df['tension_label'].unique())).to(device)\n",
    "best_loss_path = '/workspace/MILs(zaeseok)/2019 users/tension models/'+user+'.p'\n",
    "tension_milnet.load_state_dict(torch.load(best_loss_path))"
   ]
  },
  {
   "cell_type": "markdown",
   "id": "7968bc65",
   "metadata": {},
   "source": [
    "# Testset에서 모달 주요도 추출"
   ]
  },
  {
   "cell_type": "code",
   "execution_count": 6,
   "id": "71618069",
   "metadata": {},
   "outputs": [],
   "source": [
    "tension_atts = []\n",
    "\n",
    "tension_milnet.eval()\n",
    "for batch_id, (\n",
    "    e4Acc, e4Bvp, e4Eda, e4Hr, e4Temp,\n",
    "    mAcc, mGps, mGyr, mMag,\n",
    "    emotionPositive, emotionTension, action\n",
    ") in enumerate(test_dataloader):\n",
    "    e4Acc = e4Acc.to(device)\n",
    "    e4Bvp = e4Bvp.to(device)\n",
    "    e4Eda = e4Eda.to(device)\n",
    "    e4Hr = e4Hr.float().to(device)\n",
    "    e4Temp = e4Temp.to(device)\n",
    "    mAcc = mAcc.to(device)\n",
    "    mGps = mGps.float().to(device)\n",
    "    mGyr = mGyr.to(device)\n",
    "    mMag = mMag.to(device)\n",
    "    label = emotionTension.long().to(device)\n",
    "    \n",
    "    # att을 통해 각 모달의 주요도 추출\n",
    "    _, _, _, att = tension_milnet(e4Acc, e4Bvp, e4Eda, e4Hr, e4Temp, mAcc, mGps, mGyr, mMag)\n",
    "\n",
    "    temp_atts = att.detach().cpu().numpy()\n",
    "    tension_atts += list(temp_atts)\n",
    "\n",
    "tension_atts = np.array(tension_atts).reshape(-1, 9)\n",
    "\n",
    "with open('/workspace/MILs(zaeseok)/2019 users/tension_atts/'+user+'.p', 'wb') as f:\n",
    "    pickle.dump(tension_atts, f, pickle.HIGHEST_PROTOCOL)"
   ]
  },
  {
   "cell_type": "markdown",
   "id": "eae9771c",
   "metadata": {},
   "source": [
    "# 모달 주요도 형태\n",
    "- 각 데이터에 대하여 모달 별 주요도가 추출 (모달은 9개이므로 9개에 대한 주요도 추출)"
   ]
  },
  {
   "cell_type": "code",
   "execution_count": 7,
   "id": "abebf227",
   "metadata": {},
   "outputs": [
    {
     "data": {
      "text/plain": [
       "array([[0.05016539, 0.02071478, 0.08433771, ..., 0.22114296, 0.09544072,\n",
       "        0.10374151],\n",
       "       [0.04556508, 0.01263833, 0.10977403, ..., 0.22408846, 0.06326192,\n",
       "        0.11171645],\n",
       "       [0.10095838, 0.01394055, 0.11276968, ..., 0.1867308 , 0.10661411,\n",
       "        0.06216093],\n",
       "       ...,\n",
       "       [0.06113615, 0.0162528 , 0.09315126, ..., 0.22908539, 0.06791632,\n",
       "        0.05998908],\n",
       "       [0.09962416, 0.01594216, 0.10637611, ..., 0.18703876, 0.11550146,\n",
       "        0.04581542],\n",
       "       [0.09384847, 0.02099067, 0.11735202, ..., 0.20181094, 0.06687717,\n",
       "        0.06284719]], dtype=float32)"
      ]
     },
     "execution_count": 7,
     "metadata": {},
     "output_type": "execute_result"
    }
   ],
   "source": [
    "tension_atts"
   ]
  },
  {
   "cell_type": "code",
   "execution_count": 8,
   "id": "56ae26d2",
   "metadata": {},
   "outputs": [
    {
     "data": {
      "text/plain": [
       "(369, 9)"
      ]
     },
     "execution_count": 8,
     "metadata": {},
     "output_type": "execute_result"
    }
   ],
   "source": [
    "tension_atts.shape"
   ]
  }
 ],
 "metadata": {
  "kernelspec": {
   "display_name": "Python 3 (ipykernel)",
   "language": "python",
   "name": "python3"
  },
  "language_info": {
   "codemirror_mode": {
    "name": "ipython",
    "version": 3
   },
   "file_extension": ".py",
   "mimetype": "text/x-python",
   "name": "python",
   "nbconvert_exporter": "python",
   "pygments_lexer": "ipython3",
   "version": "3.10.8"
  }
 },
 "nbformat": 4,
 "nbformat_minor": 5
}
