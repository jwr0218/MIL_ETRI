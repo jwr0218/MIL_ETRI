{
 "cells": [
  {
   "cell_type": "markdown",
   "id": "88a81f69",
   "metadata": {},
   "source": [
    "# 데이터 전처리 알고리즘\n",
    "- 본 연구는 2019년 라이프로그 데이터를 대상으로 연구 및 실험 진행\n",
    "- 데이터 구성은 아래와 같음\n",
    "    - 유저명 디렉토리 \n",
    "        - 타임스탬프 디렉토리 \n",
    "            - 유저 라벨 정보.csv\n",
    "            - 타임스탬프에서 측정된 센서값이 있는 디렉토리\n",
    "                - 타임스탬프 별 센서 정보"
   ]
  },
  {
   "cell_type": "markdown",
   "id": "592dd7bc",
   "metadata": {},
   "source": [
    "# 필요 라이브러리 로드"
   ]
  },
  {
   "cell_type": "code",
   "execution_count": 1,
   "id": "82a44962",
   "metadata": {},
   "outputs": [],
   "source": [
    "import os\n",
    "import pickle\n",
    "import numpy as np\n",
    "import pandas as pd\n",
    "from tqdm import tqdm_notebook\n",
    "\n",
    "import warnings\n",
    "warnings.filterwarnings( 'ignore' )"
   ]
  },
  {
   "cell_type": "markdown",
   "id": "81692d82",
   "metadata": {},
   "source": [
    "# Data load"
   ]
  },
  {
   "cell_type": "markdown",
   "id": "0ec73216",
   "metadata": {},
   "source": [
    "## 2018년 사용자와 2019년 사용자의 개인정보 파일 로드\n",
    "- 필요한 2019년 사용자의 정보만 추출"
   ]
  },
  {
   "cell_type": "code",
   "execution_count": 4,
   "id": "a5b94960",
   "metadata": {
    "scrolled": false
   },
   "outputs": [
    {
     "data": {
      "text/html": [
       "<div>\n",
       "<style scoped>\n",
       "    .dataframe tbody tr th:only-of-type {\n",
       "        vertical-align: middle;\n",
       "    }\n",
       "\n",
       "    .dataframe tbody tr th {\n",
       "        vertical-align: top;\n",
       "    }\n",
       "\n",
       "    .dataframe thead th {\n",
       "        text-align: right;\n",
       "    }\n",
       "</style>\n",
       "<table border=\"1\" class=\"dataframe\">\n",
       "  <thead>\n",
       "    <tr style=\"text-align: right;\">\n",
       "      <th></th>\n",
       "      <th>gender</th>\n",
       "      <th>age</th>\n",
       "      <th>height</th>\n",
       "      <th>weight</th>\n",
       "      <th>startDt</th>\n",
       "      <th>endDt</th>\n",
       "    </tr>\n",
       "    <tr>\n",
       "      <th>userId</th>\n",
       "      <th></th>\n",
       "      <th></th>\n",
       "      <th></th>\n",
       "      <th></th>\n",
       "      <th></th>\n",
       "      <th></th>\n",
       "    </tr>\n",
       "  </thead>\n",
       "  <tbody>\n",
       "    <tr>\n",
       "      <th>101</th>\n",
       "      <td>F</td>\n",
       "      <td>23</td>\n",
       "      <td>161.0</td>\n",
       "      <td>52.0</td>\n",
       "      <td>2020-01-01</td>\n",
       "      <td>2020-01-13</td>\n",
       "    </tr>\n",
       "    <tr>\n",
       "      <th>102</th>\n",
       "      <td>F</td>\n",
       "      <td>22</td>\n",
       "      <td>161.0</td>\n",
       "      <td>50.0</td>\n",
       "      <td>2019-12-09</td>\n",
       "      <td>2019-12-23</td>\n",
       "    </tr>\n",
       "    <tr>\n",
       "      <th>103</th>\n",
       "      <td>F</td>\n",
       "      <td>19</td>\n",
       "      <td>171.0</td>\n",
       "      <td>61.0</td>\n",
       "      <td>2020-01-04</td>\n",
       "      <td>2020-01-16</td>\n",
       "    </tr>\n",
       "    <tr>\n",
       "      <th>104</th>\n",
       "      <td>F</td>\n",
       "      <td>24</td>\n",
       "      <td>165.0</td>\n",
       "      <td>52.0</td>\n",
       "      <td>2019-12-04</td>\n",
       "      <td>2019-12-23</td>\n",
       "    </tr>\n",
       "    <tr>\n",
       "      <th>105</th>\n",
       "      <td>F</td>\n",
       "      <td>19</td>\n",
       "      <td>167.0</td>\n",
       "      <td>68.0</td>\n",
       "      <td>2019-12-04</td>\n",
       "      <td>2019-12-19</td>\n",
       "    </tr>\n",
       "  </tbody>\n",
       "</table>\n",
       "</div>"
      ],
      "text/plain": [
       "       gender  age  height  weight     startDt       endDt\n",
       "userId                                                    \n",
       "101         F   23   161.0    52.0  2020-01-01  2020-01-13\n",
       "102         F   22   161.0    50.0  2019-12-09  2019-12-23\n",
       "103         F   19   171.0    61.0  2020-01-04  2020-01-16\n",
       "104         F   24   165.0    52.0  2019-12-04  2019-12-23\n",
       "105         F   19   167.0    68.0  2019-12-04  2019-12-19"
      ]
     },
     "execution_count": 4,
     "metadata": {},
     "output_type": "execute_result"
    }
   ],
   "source": [
    "# user_info_2019_2018_updated.csv가 있는 경로를 설정\n",
    "user_info_df = pd.read_csv('/workspace/data/user_info_2019_2018_updated.csv')\n",
    "user_info_df.set_index('userId', inplace=True)\n",
    "user_info_df.head()"
   ]
  },
  {
   "cell_type": "code",
   "execution_count": 7,
   "id": "6c733c55",
   "metadata": {
    "scrolled": true
   },
   "outputs": [
    {
     "data": {
      "text/plain": [
       "['101',\n",
       " '102',\n",
       " '103',\n",
       " '104',\n",
       " '105',\n",
       " '106',\n",
       " '107',\n",
       " '108',\n",
       " '109',\n",
       " '110',\n",
       " '111',\n",
       " '112',\n",
       " '113',\n",
       " '114',\n",
       " '115',\n",
       " '116',\n",
       " '117',\n",
       " '118',\n",
       " '119',\n",
       " '120']"
      ]
     },
     "execution_count": 7,
     "metadata": {},
     "output_type": "execute_result"
    }
   ],
   "source": [
    "list(user_info_df.index[:20])"
   ]
  },
  {
   "cell_type": "markdown",
   "id": "45e927f6",
   "metadata": {},
   "source": [
    "# 2019년 유저 정보를 추출하여 유저별로 데이터프레임을 생성 후 pickle로 저장"
   ]
  },
  {
   "cell_type": "code",
   "execution_count": 9,
   "id": "e6e6d6d1",
   "metadata": {},
   "outputs": [
    {
     "data": {
      "application/vnd.jupyter.widget-view+json": {
       "model_id": "f65b6920b28d4a10b0c0e7d8cdc1d3fa",
       "version_major": 2,
       "version_minor": 0
      },
      "text/plain": [
       "  0%|          | 0/20 [00:00<?, ?it/s]"
      ]
     },
     "metadata": {},
     "output_type": "display_data"
    },
    {
     "data": {
      "application/vnd.jupyter.widget-view+json": {
       "model_id": "ebded17d2c1943c9bde10797ac2fab7c",
       "version_major": 2,
       "version_minor": 0
      },
      "text/plain": [
       "  0%|          | 0/12 [00:00<?, ?it/s]"
      ]
     },
     "metadata": {},
     "output_type": "display_data"
    },
    {
     "data": {
      "application/vnd.jupyter.widget-view+json": {
       "model_id": "53123d266db74227ae45712f00826a68",
       "version_major": 2,
       "version_minor": 0
      },
      "text/plain": [
       "  0%|          | 0/15 [00:00<?, ?it/s]"
      ]
     },
     "metadata": {},
     "output_type": "display_data"
    },
    {
     "data": {
      "application/vnd.jupyter.widget-view+json": {
       "model_id": "b60c5f05e89c43ab8ea933fd03887699",
       "version_major": 2,
       "version_minor": 0
      },
      "text/plain": [
       "  0%|          | 0/12 [00:00<?, ?it/s]"
      ]
     },
     "metadata": {},
     "output_type": "display_data"
    },
    {
     "data": {
      "application/vnd.jupyter.widget-view+json": {
       "model_id": "2cff6038538d4feaa1fe86a146d9db86",
       "version_major": 2,
       "version_minor": 0
      },
      "text/plain": [
       "  0%|          | 0/18 [00:00<?, ?it/s]"
      ]
     },
     "metadata": {},
     "output_type": "display_data"
    },
    {
     "data": {
      "application/vnd.jupyter.widget-view+json": {
       "model_id": "e2d3be6a16254047b17b2f524cccc67c",
       "version_major": 2,
       "version_minor": 0
      },
      "text/plain": [
       "  0%|          | 0/16 [00:00<?, ?it/s]"
      ]
     },
     "metadata": {},
     "output_type": "display_data"
    },
    {
     "data": {
      "application/vnd.jupyter.widget-view+json": {
       "model_id": "1a273b7ca70946cbae3d058a8766a0f2",
       "version_major": 2,
       "version_minor": 0
      },
      "text/plain": [
       "  0%|          | 0/16 [00:00<?, ?it/s]"
      ]
     },
     "metadata": {},
     "output_type": "display_data"
    },
    {
     "data": {
      "application/vnd.jupyter.widget-view+json": {
       "model_id": "97a47325a44a42bf9f175970aaf24de0",
       "version_major": 2,
       "version_minor": 0
      },
      "text/plain": [
       "  0%|          | 0/14 [00:00<?, ?it/s]"
      ]
     },
     "metadata": {},
     "output_type": "display_data"
    },
    {
     "data": {
      "application/vnd.jupyter.widget-view+json": {
       "model_id": "8c3f81c0db084105b897d1d95f5d3cd1",
       "version_major": 2,
       "version_minor": 0
      },
      "text/plain": [
       "  0%|          | 0/14 [00:00<?, ?it/s]"
      ]
     },
     "metadata": {},
     "output_type": "display_data"
    },
    {
     "data": {
      "application/vnd.jupyter.widget-view+json": {
       "model_id": "bc361865802944b4bfcfd69168505265",
       "version_major": 2,
       "version_minor": 0
      },
      "text/plain": [
       "  0%|          | 0/13 [00:00<?, ?it/s]"
      ]
     },
     "metadata": {},
     "output_type": "display_data"
    },
    {
     "data": {
      "application/vnd.jupyter.widget-view+json": {
       "model_id": "34321568b6774b35859c46a2d21e5816",
       "version_major": 2,
       "version_minor": 0
      },
      "text/plain": [
       "  0%|          | 0/17 [00:00<?, ?it/s]"
      ]
     },
     "metadata": {},
     "output_type": "display_data"
    },
    {
     "data": {
      "application/vnd.jupyter.widget-view+json": {
       "model_id": "b2e6e21780ea41978802caed978b56c9",
       "version_major": 2,
       "version_minor": 0
      },
      "text/plain": [
       "  0%|          | 0/16 [00:00<?, ?it/s]"
      ]
     },
     "metadata": {},
     "output_type": "display_data"
    },
    {
     "data": {
      "application/vnd.jupyter.widget-view+json": {
       "model_id": "1c070c11ce714b099a58aa7318a4ee45",
       "version_major": 2,
       "version_minor": 0
      },
      "text/plain": [
       "  0%|          | 0/16 [00:00<?, ?it/s]"
      ]
     },
     "metadata": {},
     "output_type": "display_data"
    },
    {
     "data": {
      "application/vnd.jupyter.widget-view+json": {
       "model_id": "273d1639197c4c25b4a1d979a6ee4798",
       "version_major": 2,
       "version_minor": 0
      },
      "text/plain": [
       "  0%|          | 0/15 [00:00<?, ?it/s]"
      ]
     },
     "metadata": {},
     "output_type": "display_data"
    },
    {
     "data": {
      "application/vnd.jupyter.widget-view+json": {
       "model_id": "3c07b200a58f4f7daeeb7999ea0415aa",
       "version_major": 2,
       "version_minor": 0
      },
      "text/plain": [
       "  0%|          | 0/17 [00:00<?, ?it/s]"
      ]
     },
     "metadata": {},
     "output_type": "display_data"
    },
    {
     "data": {
      "application/vnd.jupyter.widget-view+json": {
       "model_id": "e1a15343636b49108f11de8eaac59bef",
       "version_major": 2,
       "version_minor": 0
      },
      "text/plain": [
       "  0%|          | 0/18 [00:00<?, ?it/s]"
      ]
     },
     "metadata": {},
     "output_type": "display_data"
    },
    {
     "data": {
      "application/vnd.jupyter.widget-view+json": {
       "model_id": "6edc6758ef8746e48269b22ba9f3744a",
       "version_major": 2,
       "version_minor": 0
      },
      "text/plain": [
       "  0%|          | 0/15 [00:00<?, ?it/s]"
      ]
     },
     "metadata": {},
     "output_type": "display_data"
    },
    {
     "data": {
      "application/vnd.jupyter.widget-view+json": {
       "model_id": "4672731df6204696ada561a23a36cf4b",
       "version_major": 2,
       "version_minor": 0
      },
      "text/plain": [
       "  0%|          | 0/16 [00:00<?, ?it/s]"
      ]
     },
     "metadata": {},
     "output_type": "display_data"
    },
    {
     "data": {
      "application/vnd.jupyter.widget-view+json": {
       "model_id": "afc3e5ce3dc3433f80b726b2a59c2a50",
       "version_major": 2,
       "version_minor": 0
      },
      "text/plain": [
       "  0%|          | 0/20 [00:00<?, ?it/s]"
      ]
     },
     "metadata": {},
     "output_type": "display_data"
    },
    {
     "data": {
      "application/vnd.jupyter.widget-view+json": {
       "model_id": "ce48087eca734a1dbda322a78a14e1e0",
       "version_major": 2,
       "version_minor": 0
      },
      "text/plain": [
       "  0%|          | 0/15 [00:00<?, ?it/s]"
      ]
     },
     "metadata": {},
     "output_type": "display_data"
    },
    {
     "data": {
      "application/vnd.jupyter.widget-view+json": {
       "model_id": "d461435608e04517bab285643b49c26a",
       "version_major": 2,
       "version_minor": 0
      },
      "text/plain": [
       "  0%|          | 0/20 [00:00<?, ?it/s]"
      ]
     },
     "metadata": {},
     "output_type": "display_data"
    }
   ],
   "source": [
    "for user_name in tqdm_notebook(list(user_info_df.index[:20])):\n",
    "    # 2019년 유저 데이터가 있는 파일 경ㄹ\n",
    "    dataset_path = '/workspace/data/dataset_2019/'\n",
    "    temp_user_path = dataset_path + user_name + '/'\n",
    "\n",
    "    temp_user_labels = os.listdir(temp_user_path)\n",
    "\n",
    "    prpDf = pd.concat([pd.read_csv(temp_user_path + temp_user_labels[j] + '/' + temp_user_labels[j] + '_label.csv') for j in range(len(temp_user_labels))], 0)\n",
    "\n",
    "    prpDf.reset_index(inplace=True)\n",
    "\n",
    "    prpDf['userName'] = [user_name for j in range(len(prpDf))]\n",
    "\n",
    "    prpDf['gender'] = [user_info_df['gender'][prpDf['userName'][j]] for j in range(len(prpDf))]\n",
    "    prpDf['height'] = [user_info_df['height'][prpDf['userName'][j]] for j in range(len(prpDf))]\n",
    "    prpDf['weight'] = [user_info_df['weight'][prpDf['userName'][j]] for j in range(len(prpDf))]\n",
    "\n",
    "    prpDf = prpDf[['userName', 'ts', 'emotionPositive', 'emotionTension', 'action', 'gender', 'height', 'weight']]\n",
    "\n",
    "    prpDf['e4Acc'] = [[] for j in range(len(prpDf))]\n",
    "    prpDf['e4Bvp'] = [np.array([]) for j in range(len(prpDf))]\n",
    "    prpDf['e4Eda'] = [np.array([]) for j in range(len(prpDf))]\n",
    "    prpDf['e4Hr'] = [np.array([]) for j in range(len(prpDf))]\n",
    "    prpDf['e4Temp'] = [np.array([]) for j in range(len(prpDf))]\n",
    "\n",
    "    prpDf['mAcc'] = [[] for j in range(len(prpDf))]\n",
    "    prpDf['mGps'] = [[] for j in range(len(prpDf))]\n",
    "    prpDf['mGyr'] = [[] for j in range(len(prpDf))]\n",
    "    prpDf['mMag'] = [[] for j in range(len(prpDf))]\n",
    "\n",
    "    prpDf.set_index('ts', inplace=True)\n",
    "\n",
    "    tempE4AccDict = {}\n",
    "    for i in tqdm_notebook(range(len(temp_user_labels))):\n",
    "        e4Acc_temp_file = os.listdir(temp_user_path + temp_user_labels[i] + '/' + 'e4Acc')\n",
    "        temp_datas = dict([(e4Acc[:-4], pd.read_csv(temp_user_path + temp_user_labels[i] + '/' + 'e4Acc/' + e4Acc).values[:, 1:]) for e4Acc in e4Acc_temp_file])\n",
    "        for td in list(temp_datas.keys()):\n",
    "            try:\n",
    "                prpDf['e4Acc'][int(td)] = temp_datas[td]\n",
    "            except:\n",
    "                continue\n",
    "\n",
    "        e4Bvp_temp_file = os.listdir(temp_user_path + temp_user_labels[i] + '/' + 'e4Bvp')\n",
    "        temp_datas = dict([(e4Bvp[:-4], pd.read_csv(temp_user_path + temp_user_labels[i] + '/' + 'e4Bvp/' + e4Bvp).values[:, 1:]) for e4Bvp in e4Bvp_temp_file])\n",
    "        for td in list(temp_datas.keys()):\n",
    "            try:\n",
    "                prpDf['e4Bvp'][int(td)] = temp_datas[td]\n",
    "            except:\n",
    "                continue\n",
    "\n",
    "        e4Eda_temp_file = os.listdir(temp_user_path + temp_user_labels[i] + '/' + 'e4Eda')\n",
    "        temp_datas = dict([(e4Eda[:-4], pd.read_csv(temp_user_path + temp_user_labels[i] + '/' + 'e4Eda/' + e4Eda).values[:, 1:]) for e4Eda in e4Eda_temp_file])\n",
    "        for td in list(temp_datas.keys()):\n",
    "            try:\n",
    "                prpDf['e4Eda'][int(td)] = temp_datas[td]\n",
    "            except:\n",
    "                continue\n",
    "\n",
    "        e4Hr_temp_file = os.listdir(temp_user_path + temp_user_labels[i] + '/' + 'e4Hr')\n",
    "        temp_datas = dict([(e4Hr[:-4], pd.read_csv(temp_user_path + temp_user_labels[i] + '/' + 'e4Hr/' + e4Hr).values[:, 1:]) for e4Hr in e4Hr_temp_file])\n",
    "        for td in list(temp_datas.keys()):\n",
    "            try:\n",
    "                prpDf['e4Hr'][int(td)] = temp_datas[td]\n",
    "            except:\n",
    "                continue\n",
    "\n",
    "        e4Temp_temp_file = os.listdir(temp_user_path + temp_user_labels[i] + '/' + 'e4Temp')\n",
    "        temp_datas = dict([(e4Temp[:-4], pd.read_csv(temp_user_path + temp_user_labels[i] + '/' + 'e4Temp/' + e4Temp).values[:, 1:]) for e4Temp in e4Temp_temp_file])\n",
    "        for td in list(temp_datas.keys()):\n",
    "            try:\n",
    "                prpDf['e4Temp'][int(td)] = temp_datas[td]\n",
    "            except:\n",
    "                continue\n",
    "\n",
    "        mAcc_temp_file = os.listdir(temp_user_path + temp_user_labels[i] + '/' + 'mAcc')\n",
    "        temp_datas = dict([(mAcc[:-4], pd.read_csv(temp_user_path + temp_user_labels[i] + '/' + 'mAcc/' + mAcc).values[:, 1:]) for mAcc in mAcc_temp_file])\n",
    "        for td in list(temp_datas.keys()):\n",
    "            try:\n",
    "                prpDf['mAcc'][int(td)] = temp_datas[td]\n",
    "            except:\n",
    "                continue\n",
    "\n",
    "        mGps_temp_file = os.listdir(temp_user_path + temp_user_labels[i] + '/' + 'mGps')\n",
    "        temp_datas = dict([(mGps[:-4], pd.read_csv(temp_user_path + temp_user_labels[i] + '/' + 'mGps/' + mGps).values[:, 1:]) for mGps in mGps_temp_file])\n",
    "        for td in list(temp_datas.keys()):\n",
    "            try:\n",
    "                prpDf['mGps'][int(td)] = temp_datas[td]\n",
    "            except:\n",
    "                continue\n",
    "\n",
    "        mGyr_temp_file = os.listdir(temp_user_path + temp_user_labels[i] + '/' + 'mGyr')\n",
    "        temp_datas = dict([(mGyr[:-4], pd.read_csv(temp_user_path + temp_user_labels[i] + '/' + 'mGyr/' + mGyr).values[:, 1:]) for mGyr in mGyr_temp_file])\n",
    "        for td in list(temp_datas.keys()):\n",
    "            try:\n",
    "                prpDf['mGyr'][int(td)] = temp_datas[td]\n",
    "            except:\n",
    "                continue\n",
    "\n",
    "        mMag_temp_file = os.listdir(temp_user_path + temp_user_labels[i] + '/' + 'mMag')\n",
    "        temp_datas = dict([(mMag[:-4], pd.read_csv(temp_user_path + temp_user_labels[i] + '/' + 'mMag/' + mMag).values[:, 1:]) for mMag in mMag_temp_file])\n",
    "        for td in list(temp_datas.keys()):\n",
    "            try:\n",
    "                prpDf['mMag'][int(td)] = temp_datas[td]\n",
    "            except:\n",
    "                continue\n",
    "\n",
    "    prpDf['e4AccLen'] = prpDf['e4Acc'].map(len)\n",
    "    prpDf = prpDf.drop(prpDf[prpDf['e4AccLen']==0].index, 0)\n",
    "    prpDf['e4BvpLen'] = prpDf['e4Bvp'].map(len)\n",
    "    prpDf = prpDf.drop(prpDf[prpDf['e4BvpLen']==0].index, 0)\n",
    "    prpDf['e4EdaLen'] = prpDf['e4Eda'].map(len)\n",
    "    prpDf = prpDf.drop(prpDf[prpDf['e4EdaLen']==0].index, 0)\n",
    "    prpDf['e4HrLen'] = prpDf['e4Hr'].map(len)\n",
    "    prpDf = prpDf.drop(prpDf[prpDf['e4HrLen']==0].index, 0)\n",
    "    prpDf['e4TempLen'] = prpDf['e4Temp'].map(len)\n",
    "    prpDf = prpDf.drop(prpDf[prpDf['e4TempLen']==0].index, 0)\n",
    "    prpDf['mAccLen'] = prpDf['mAcc'].map(len)\n",
    "    prpDf = prpDf.drop(prpDf[prpDf['mAccLen']==0].index, 0)\n",
    "    prpDf['mGpsLen'] = prpDf['mGps'].map(len)\n",
    "    prpDf = prpDf.drop(prpDf[prpDf['mGpsLen']==0].index, 0)\n",
    "    prpDf['mGyrLen'] = prpDf['mGyr'].map(len)\n",
    "    prpDf = prpDf.drop(prpDf[prpDf['mGyrLen']==0].index, 0)\n",
    "    prpDf['mMagLen'] = prpDf['mMag'].map(len)\n",
    "    prpDf = prpDf.drop(prpDf[prpDf['mMagLen']==0].index, 0)\n",
    "    \n",
    "    with open(user_name + '_prpDf.pickle', 'wb') as f:\n",
    "        pickle.dump(prpDf, f, pickle.HIGHEST_PROTOCOL)"
   ]
  },
  {
   "cell_type": "code",
   "execution_count": null,
   "id": "270b7fc1",
   "metadata": {},
   "outputs": [],
   "source": []
  }
 ],
 "metadata": {
  "kernelspec": {
   "display_name": "Python 3 (ipykernel)",
   "language": "python",
   "name": "python3"
  },
  "language_info": {
   "codemirror_mode": {
    "name": "ipython",
    "version": 3
   },
   "file_extension": ".py",
   "mimetype": "text/x-python",
   "name": "python",
   "nbconvert_exporter": "python",
   "pygments_lexer": "ipython3",
   "version": "3.10.8"
  }
 },
 "nbformat": 4,
 "nbformat_minor": 5
}
